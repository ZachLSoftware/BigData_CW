{
 "cells": [
  {
   "cell_type": "code",
   "execution_count": 1,
   "metadata": {},
   "outputs": [],
   "source": [
    "import pandas as pd\n",
    "import numpy as np\n",
    "import matplotlib.pyplot as plt\n",
    "import seaborn as sns\n",
    "from pandas.plotting import scatter_matrix\n",
    "from sklearn import svm, feature_selection, linear_model\n",
    "from sklearn.model_selection import train_test_split\n",
    "import statsmodels.formula.api as smf\n",
    "import statsmodels.api as sm"
   ]
  },
  {
   "cell_type": "code",
   "execution_count": null,
   "metadata": {},
   "outputs": [],
   "source": [
    "def step2_clean():\n",
    "    df = pd.read_csv(\"Manhattan12.csv\")\n",
    "\n",
    "    # Print shape\n",
    "    print(df.shape)\n",
    "\n",
    "    # Rename incorrect column names\n",
    "    df.rename(columns={\"APART\\r\\nMENT\\r\\nNUMBER\":\"APARTMENT NUMBER\", \"SALE\\r\\nPRICE\":\"SALE PRICE\"}, inplace = True)\n",
    "    numerical=['RESIDENTIAL_UNITS','COMMERCIAL_UNITS','TOTAL_UNITS','LAND_SQUARE_FEET','GROSS_SQUARE_FEET','SALE_PRICE']\n",
    "    categorical=['BOROUGH','NEIGHBORHOOD', 'BUILDING_CLASS_CATEGORY', 'TAX_CLASS_AT_PRESENT', 'BLOCK','LOT','EASE-MENT', 'BUILDING_CLASS_AT_PRESENT', 'ADDRESS', 'APARTMENT_NUMBER','ZIP_CODE','YEAR_BUILT','TAX_CLASS_AT_TIME_OF_SALE', 'BUILDING_CLASS_AT_TIME_OF_SALE', 'SALE_DATE'\n",
    "    ]\n",
    "    df.columns=df.columns.str.replace(' ', '_')\n",
    "    # df_num_man=df.filter(['RESIDENTIAL_UNITS', 'COMMERCIAL_UNITS', 'TOTAL_UNITS', 'LAND SQUARE FEET', 'GROSS SQUARE FEET', 'SALE PRICE']).copy()\n",
    "\n",
    "    #num_cols=pd.concat([num_cols,df_num_man], axis=1, join='inner')\n",
    "    df[numerical]=df[numerical].replace('\\$','', regex=True)\n",
    "    df[numerical]=df[numerical].replace(',','', regex=True)\n",
    "\n",
    "\n",
    "    df['SALE_DATE']=pd.to_datetime(df['SALE_DATE'], dayfirst=True)\n",
    "    df[categorical]=df[categorical].replace(' ', '', regex=True)\n",
    "    dfremove=df.copy()\n",
    "    dfremove[categorical]=dfremove[categorical].replace('', np.NaN)\n",
    "\n",
    "    df[numerical]=df[numerical].apply(pd.to_numeric)\n",
    "    df[numerical]=df[numerical].replace(0, np.NaN)\n",
    "\n",
    "\n",
    "    df.drop(columns=['BOROUGH', 'EASE-MENT', 'APARTMENT_NUMBER'], inplace=True)\n",
    "    df.drop_duplicates(inplace=True)\n",
    "    df.dropna(inplace=True)\n",
    "    print(df.shape)\n",
    "\n",
    "    df=markOutliers(df, numerical)\n",
    "    df=df[df.outlier==0]\n",
    "    df=df.drop('outlier', axis=1)\n",
    "    print(df.shape)\n",
    "    return df"
   ]
  },
  {
   "cell_type": "code",
   "execution_count": null,
   "metadata": {},
   "outputs": [],
   "source": []
  }
 ],
 "metadata": {
  "kernelspec": {
   "display_name": "Python 3",
   "language": "python",
   "name": "python3"
  },
  "language_info": {
   "codemirror_mode": {
    "name": "ipython",
    "version": 3
   },
   "file_extension": ".py",
   "mimetype": "text/x-python",
   "name": "python",
   "nbconvert_exporter": "python",
   "pygments_lexer": "ipython3",
   "version": "3.11.0"
  },
  "orig_nbformat": 4
 },
 "nbformat": 4,
 "nbformat_minor": 2
}
